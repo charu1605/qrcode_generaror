{
  "nbformat": 4,
  "nbformat_minor": 0,
  "metadata": {
    "colab": {
      "provenance": [],
      "authorship_tag": "ABX9TyPIcUQFCK8UWSwetcPxIjzO",
      "include_colab_link": true
    },
    "kernelspec": {
      "name": "python3",
      "display_name": "Python 3"
    },
    "language_info": {
      "name": "python"
    }
  },
  "cells": [
    {
      "cell_type": "markdown",
      "metadata": {
        "id": "view-in-github",
        "colab_type": "text"
      },
      "source": [
        "<a href=\"https://colab.research.google.com/github/charu1605/qrcode_generaror/blob/main/qr.ipynb\" target=\"_parent\"><img src=\"https://colab.research.google.com/assets/colab-badge.svg\" alt=\"Open In Colab\"/></a>"
      ]
    },
    {
      "cell_type": "code",
      "execution_count": null,
      "metadata": {
        "id": "hML3fGJvzK9Z"
      },
      "outputs": [],
      "source": [
        "import numpy as np\n",
        "from PIL import Image, ImageDraw\n",
        "import sqlite3\n"
      ]
    },
    {
      "cell_type": "code",
      "source": [
        "def text_to_binary(text):\n",
        "    \"\"\"Converts text into a binary string.\"\"\"\n",
        "    return ''.join(format(ord(char), '08b') for char in text)\n"
      ],
      "metadata": {
        "id": "a1tckBaf0OJL"
      },
      "execution_count": null,
      "outputs": []
    },
    {
      "cell_type": "code",
      "source": [
        "def generate_qr_matrix(binary_data, size=21):\n",
        "    \"\"\"Creates a simple QR-like matrix from binary data.\"\"\"\n",
        "    qr_matrix = np.zeros((size, size), dtype=np.uint8)\n",
        "\n",
        "    row, col = 1, 1\n",
        "    for bit in binary_data:\n",
        "        qr_matrix[row, col] = int(bit)\n",
        "        col += 1\n",
        "        if col >= size - 1:\n",
        "            col = 1\n",
        "            row += 1\n",
        "        if row >= size - 1:\n",
        "            break\n",
        "\n",
        "    # Add a simple border (not full QR standard)\n",
        "    qr_matrix[0, :] = 1\n",
        "    qr_matrix[:, 0] = 1\n",
        "    qr_matrix[-1, :] = 1\n",
        "    qr_matrix[:, -1] = 1\n",
        "\n",
        "    return qr_matrix\n"
      ],
      "metadata": {
        "id": "OkN4pyYX0OLr"
      },
      "execution_count": null,
      "outputs": []
    },
    {
      "cell_type": "code",
      "source": [
        "def qr_matrix_to_image(qr_matrix, color=(0, 0, 0), background=(255, 255, 255)):\n",
        "    \"\"\"Converts a QR matrix to an image with color customization.\"\"\"\n",
        "    size = qr_matrix.shape[0]\n",
        "    img = Image.new(\"RGB\", (size * 10, size * 10), background)\n",
        "    draw = ImageDraw.Draw(img)\n",
        "\n",
        "    for y in range(size):\n",
        "        for x in range(size):\n",
        "            if qr_matrix[y, x] == 1:\n",
        "                draw.rectangle([x * 10, y * 10, (x + 1) * 10, (y + 1) * 10],fill=color)\n",
        "\n",
        "    return img\n",
        "\n"
      ],
      "metadata": {
        "id": "tVHQhpFk0ON5"
      },
      "execution_count": null,
      "outputs": []
    },
    {
      "cell_type": "code",
      "source": [
        "def add_logo(img, logo_path):\n",
        "    \"\"\"Adds a logo to the center of the QR code.\"\"\"\n",
        "    try:\n",
        "        logo = Image.open(logo_path)\n",
        "        qr_size = img.size[0]\n",
        "\n",
        "        logo_size = qr_size // 5\n",
        "        logo = logo.resize((logo_size, logo_size))\n",
        "\n",
        "        pos = ((qr_size - logo_size) // 2, (qr_size - logo_size) // 2)\n",
        "        img.paste(logo, pos, mask=logo)\n",
        "\n",
        "    except Exception as e:\n",
        "        print(f\"Error loading logo: {e}\")\n"
      ],
      "metadata": {
        "id": "ohp42lYO0OQC"
      },
      "execution_count": null,
      "outputs": []
    },
    {
      "cell_type": "code",
      "source": [
        "def generate_qr_code(link, filename=\"qrcode.png\", color=(0, 0, 0), background=(255, 255, 255), logo=None):\n",
        "    \"\"\"Main function to generate a QR code from a given link.\"\"\"\n",
        "    binary_data = text_to_binary(link)\n",
        "    qr_matrix = generate_qr_matrix(binary_data)\n",
        "    img = qr_matrix_to_image(qr_matrix, color, background)\n",
        "\n",
        "    if logo:\n",
        "        add_logo(img, logo)\n",
        "\n",
        "    img.save(filename)\n",
        "    img.show()\n",
        "\n",
        "    print(f\"QR Code saved as '{filename}' and stored in the database.\")\n"
      ],
      "metadata": {
        "id": "938VXsy20OTU"
      },
      "execution_count": null,
      "outputs": []
    },
    {
      "cell_type": "code",
      "source": [
        "link = input(\"Enter the link to generate QR code: \")\n",
        "generate_qr_code(link, filename=\"custom_qr.png\", color=(1,1,1), background=(255, 255, 255), logo=\"/content/linkedin _img.png\")\n"
      ],
      "metadata": {
        "id": "0OtfDntW0OVb",
        "colab": {
          "base_uri": "https://localhost:8080/"
        },
        "outputId": "59982307-42ee-498f-a49a-7358496ba5bf"
      },
      "execution_count": 11,
      "outputs": [
        {
          "output_type": "stream",
          "name": "stdout",
          "text": [
            "Enter the link to generate QR code:  www.linkedin.com/in/charu-garg-61ab09260\n",
            "Error loading logo: bad transparency mask\n",
            "QR Code saved as 'custom_qr.png' and stored in the database.\n"
          ]
        }
      ]
    },
    {
      "cell_type": "code",
      "source": [
        "# www.linkedin.com/in/charu-garg-61ab09260"
      ],
      "metadata": {
        "id": "XO5BgKFS0OY1"
      },
      "execution_count": null,
      "outputs": []
    },
    {
      "cell_type": "code",
      "source": [
        "!pip install qrcode[pil]\n"
      ],
      "metadata": {
        "colab": {
          "base_uri": "https://localhost:8080/"
        },
        "id": "dClrlMsgC3Mi",
        "outputId": "631b7320-92e7-43ca-8ac4-297ea04f0500"
      },
      "execution_count": 13,
      "outputs": [
        {
          "output_type": "stream",
          "name": "stdout",
          "text": [
            "Collecting qrcode[pil]\n",
            "  Downloading qrcode-8.0-py3-none-any.whl.metadata (17 kB)\n",
            "Requirement already satisfied: pillow>=9.1.0 in /usr/local/lib/python3.11/dist-packages (from qrcode[pil]) (11.1.0)\n",
            "Downloading qrcode-8.0-py3-none-any.whl (45 kB)\n",
            "\u001b[?25l   \u001b[90m━━━━━━━━━━━━━━━━━━━━━━━━━━━━━━━━━━━━━━━━\u001b[0m \u001b[32m0.0/45.7 kB\u001b[0m \u001b[31m?\u001b[0m eta \u001b[36m-:--:--\u001b[0m\r\u001b[2K   \u001b[90m━━━━━━━━━━━━━━━━━━━━━━━━━━━━━━━━━━━━━━━━\u001b[0m \u001b[32m45.7/45.7 kB\u001b[0m \u001b[31m1.6 MB/s\u001b[0m eta \u001b[36m0:00:00\u001b[0m\n",
            "\u001b[?25hInstalling collected packages: qrcode\n",
            "Successfully installed qrcode-8.0\n"
          ]
        }
      ]
    },
    {
      "cell_type": "code",
      "source": [
        "import qrcode\n",
        "\n",
        "def generate_qr_code(link):\n",
        "    # Create QR code object\n",
        "    qr = qrcode.QRCode(\n",
        "        version=1,  # QR version (size)\n",
        "        error_correction=qrcode.constants.ERROR_CORRECT_L,  # Low error correction\n",
        "        box_size=10,  # Size of each box in the QR grid\n",
        "        border=4  # Border thickness\n",
        "    )\n",
        "\n",
        "    qr.add_data(link)  # Add user input (URL)\n",
        "    qr.make(fit=True)  # Adjust size based on data\n",
        "\n",
        "    # Generate and save the QR image\n",
        "    qr_img = qr.make_image(fill=\"black\", back_color=\"white\")\n",
        "    qr_img.show()  # Show the QR code\n",
        "    qr_img.save(\"qr_code.png\")  # Save the QR code\n",
        "\n",
        "# Get user input and generate QR code\n",
        "url = input(\"Enter the link to generate QR: \")\n",
        "generate_qr_code(url)\n"
      ],
      "metadata": {
        "id": "ZpANOLGL0Oa1",
        "colab": {
          "base_uri": "https://localhost:8080/"
        },
        "outputId": "87bfb36c-7aed-44bc-c464-a088935f5f74"
      },
      "execution_count": 14,
      "outputs": [
        {
          "name": "stdout",
          "output_type": "stream",
          "text": [
            "Enter the link to generate QR: www.linkedin.com/in/charu-garg-61ab09260\n"
          ]
        }
      ]
    },
    {
      "cell_type": "code",
      "source": [],
      "metadata": {
        "id": "MXwNUQNI0Oeu"
      },
      "execution_count": null,
      "outputs": []
    }
  ]
}